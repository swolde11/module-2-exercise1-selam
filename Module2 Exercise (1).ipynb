{
 "cells": [
  {
   "cell_type": "markdown",
   "metadata": {},
   "source": [
    "## Exercises\n",
    "### Write the pseudocode for these problems. \n",
    "\n",
    "#### Define the problem by constructing an IPO diagram showing input, output, and processing steps\n",
    "Ask yourself\n",
    "- What control structures (sequence, selection and repetition) are required?\n",
    "- What variables are required?\n",
    "\n",
    "Show a check of your solution with **test data** for at least **two valid test cases**\n",
    "If you use the numbers provided in the example then the correct pseudocode will calculate the same result.\n",
    "    "
   ]
  },
  {
   "cell_type": "markdown",
   "metadata": {},
   "source": [
    "#### 1. Find the average score\n",
    "A program is needed to prompt the user operator for exam scores, calculate the average score and display the result to the screen. The average score is calculated as the sum of the scores divided by the number of scores."
   ]
  },
  {
   "cell_type": "markdown",
   "metadata": {},
   "source": [
    "Begine\n",
    "get exam scores\n",
    "score1:\n",
    "score2;\n",
    "score3;\n",
    "score4:\n",
    ".\n",
    ".\n",
    "score n;\n",
    "set the counter for n\n",
    "claculate the sum \n",
    "sum = score1+score2+score3...+score n\n",
    "calaculate the average\n",
    "    avg = sum/number of counters\n",
    "end"
   ]
  },
  {
   "cell_type": "markdown",
   "metadata": {},
   "source": [
    "#### 2. How much water runs off a roof in a rain storm?\n",
    "To calculate the runoff from any given rainfall: Take the dimensions of the footprint of the roof and convert them to inches. (So, a 50' x 20' roof is 600\" x 240\"). Multiply the roof dimensions by the number of inches of rainfall. As an example, 600\" x 240\" x 1\" = 144,000 cubic inches of water for an inch of rainfall. Divide that result by 231 to get the number of gallons (because 1 gallon = 231 cubic inches). (144,000/231 = 623.38)."
   ]
  },
  {
   "cell_type": "markdown",
   "metadata": {},
   "source": [
    "Begine\n",
    "take the dimenstion of the footprint of the roof \n",
    "(A'x B')\n",
    "convert to inch \n",
    "1 foot = 12 inch\n",
    "A X 12=A\"\n",
    "B X 12=B\"\n",
    "(A\" x B\")\n",
    "get the volume\n",
    "multipley the the dimenstion by 1\"\n",
    "(A\" x B\")x1\"\n",
    "callculate the number of gallons\n",
    "1 gallon = 231 cubic inch \n",
    "divide the volume by 231\n",
    "END\n",
    "\n",
    "\n"
   ]
  },
  {
   "cell_type": "markdown",
   "metadata": {},
   "source": [
    "#### 3. Process customer record\n",
    "A program is required to read a customer’s name, a purchase amount and a tax code. The tax code has been validated and will be one of the following: 0 tax exempt (0%) 1 state sales tax only (3%) 2 federal and state sales tax (5%) 3 special sales tax (7%) The program must then compute the sales tax and the total amount due,and print the customer’s name, purchase amount, sales tax and total amount due."
   ]
  },
  {
   "cell_type": "markdown",
   "metadata": {},
   "source": [
    "Begine\n",
    "customers name\n",
    "enter name\n",
    "enter the item price\n",
    "read tax code\n",
    "0% if tax exempt\n",
    "3% if state sales\n",
    "5% if federal and state\n",
    "7% if 3 special sale tax\n",
    "compute the total amount including tax\n",
    "item price + tax code\n",
    "print the name\n",
    "print purchase amount\n",
    "print sales tax\n",
    "print total amount,\n",
    "End\n",
    "\n"
   ]
  },
  {
   "cell_type": "markdown",
   "metadata": {},
   "source": [
    "#### 4. Calculate employee's pay \n",
    "A program is required by a company to read an employee’s number, pay rate and the number of hours worked in a week. The program is then to validate the pay rate field and the hours worked field and, if valid, compute the employee’s weekly pay and then print it and the input data.\n",
    "\n",
    "Validation: According to the company’s rules, the maximum hours an employee can work per week is 60 hours, and the maximum hourly rate is $25.00 per hour. If the hours worked field or the hourly rate field is out of range, the input data and an appropriate message are to be printed and the employee’s weekly pay is not to be calculated.\n",
    "\n",
    "Weekly pay calculation: Weekly pay is calculated as hours worked times pay rate. If more than 35 hours are worked, payment for the overtime hours worked is calculated at time-and-a-half."
   ]
  },
  {
   "cell_type": "markdown",
   "metadata": {},
   "source": [
    "Beigne\n",
    "read employee's number\n",
    "read number of hours\n",
    "number of hours in 1 week <= 60 hours\n",
    "calculate the pay rate\n",
    "1 hour <= $25.00\n",
    "weekly pay = hours x pay rate\n",
    "if hours>60 \n",
    "weekly pay is not to be calculated\n",
    "if else hours>= 35\n",
    "pay rate = 1(1/2)$25\n",
    "End\n",
    "\n"
   ]
  }
 ],
 "metadata": {
  "kernelspec": {
   "display_name": "Python 3",
   "language": "python",
   "name": "python3"
  },
  "language_info": {
   "codemirror_mode": {
    "name": "ipython",
    "version": 3
   },
   "file_extension": ".py",
   "mimetype": "text/x-python",
   "name": "python",
   "nbconvert_exporter": "python",
   "pygments_lexer": "ipython3",
   "version": "3.8.8"
  }
 },
 "nbformat": 4,
 "nbformat_minor": 2
}
